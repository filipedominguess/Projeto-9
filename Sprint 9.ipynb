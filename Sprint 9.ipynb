{
 "cells": [
  {
   "cell_type": "markdown",
   "id": "efc9e5c1",
   "metadata": {},
   "source": [
    "# Baixe e prepare os dados."
   ]
  },
  {
   "cell_type": "code",
   "execution_count": 1,
   "id": "781a99a5",
   "metadata": {},
   "outputs": [],
   "source": [
    "# importando bibliotecas\n",
    "import pandas as pd\n",
    "from sklearn.model_selection import train_test_split\n",
    "from sklearn.linear_model import LinearRegression\n",
    "from sklearn.metrics import mean_squared_error\n",
    "import numpy as np"
   ]
  },
  {
   "cell_type": "code",
   "execution_count": 2,
   "id": "a0e6109b",
   "metadata": {},
   "outputs": [],
   "source": [
    "# neste trecho de código, uma lista de tuplas chamada \"arquivos\" é criada. Cada tupla contém o caminho do arquivo local e o caminho do arquivo da practicum.\n",
    "arquivos = [('Downloads/geo_data_0.csv', '/datasets/geo_data_0.csv'),\n",
    "            ('Downloads/geo_data_1.csv', '/datasets/geo_data_1.csv'),\n",
    "            ('Downloads/geo_data_2.csv', '/datasets/geo_data_2.csv')]\n",
    "\n",
    "# aqui, uma lista vazia chamada \"df_list\" é criada para armazenar os três conjuntos de dados depois de serem lidos.\n",
    "# o próximo passo é iterar sobre a lista de tuplas \"arquivos\", abrindo cada arquivo CSV e armazenando-o como um DataFrame.\n",
    "# se houver um erro ao abrir o arquivo local, o código tentará abrir o arquivo da practicum.\n",
    "# cada DataFrame é adicionado à lista \"df_list\".\n",
    "df_list = []\n",
    "for local, dataset in arquivos:\n",
    "    try:\n",
    "        df = pd.read_csv(local)\n",
    "    except:\n",
    "        df = pd.read_csv(dataset)\n",
    "\n",
    "    df_list.append(df)\n",
    "\n",
    "# por fim, os três conjuntos de dados são atribuídos às variáveis df1, df2 e df3.\n",
    "df0, df1, df2 = df_list"
   ]
  },
  {
   "cell_type": "code",
   "execution_count": 3,
   "id": "d0bb8377",
   "metadata": {},
   "outputs": [
    {
     "name": "stdout",
     "output_type": "stream",
     "text": [
      "      id        f0        f1        f2     product\n",
      "0  txEyH  0.705745 -0.497823  1.221170  105.280062\n",
      "1  2acmU  1.334711 -0.340164  4.365080   73.037750\n",
      "2  409Wp  1.022732  0.151990  1.419926   85.265647\n",
      "3  iJLyR -0.032172  0.139033  2.978566  168.620776\n",
      "4  Xdl7t  1.988431  0.155413  4.751769  154.036647\n",
      "\n",
      "<class 'pandas.core.frame.DataFrame'>\n",
      "RangeIndex: 100000 entries, 0 to 99999\n",
      "Data columns (total 5 columns):\n",
      " #   Column   Non-Null Count   Dtype  \n",
      "---  ------   --------------   -----  \n",
      " 0   id       100000 non-null  object \n",
      " 1   f0       100000 non-null  float64\n",
      " 2   f1       100000 non-null  float64\n",
      " 3   f2       100000 non-null  float64\n",
      " 4   product  100000 non-null  float64\n",
      "dtypes: float64(4), object(1)\n",
      "memory usage: 3.8+ MB\n",
      "None\n",
      "Número de duplicatas: 0\n"
     ]
    }
   ],
   "source": [
    "# verificando DataFrame\n",
    "print(df0.head())\n",
    "print()\n",
    "print(df0.info())\n",
    "print('Número de duplicatas:', df0.duplicated().sum())"
   ]
  },
  {
   "cell_type": "code",
   "execution_count": 4,
   "id": "cd7b5983",
   "metadata": {
    "scrolled": true
   },
   "outputs": [
    {
     "name": "stdout",
     "output_type": "stream",
     "text": [
      "      id         f0         f1        f2     product\n",
      "0  kBEdx -15.001348  -8.276000 -0.005876    3.179103\n",
      "1  62mP7  14.272088  -3.475083  0.999183   26.953261\n",
      "2  vyE1P   6.263187  -5.948386  5.001160  134.766305\n",
      "3  KcrkZ -13.081196 -11.506057  4.999415  137.945408\n",
      "4  AHL4O  12.702195  -8.147433  5.004363  134.766305\n",
      "\n",
      "<class 'pandas.core.frame.DataFrame'>\n",
      "RangeIndex: 100000 entries, 0 to 99999\n",
      "Data columns (total 5 columns):\n",
      " #   Column   Non-Null Count   Dtype  \n",
      "---  ------   --------------   -----  \n",
      " 0   id       100000 non-null  object \n",
      " 1   f0       100000 non-null  float64\n",
      " 2   f1       100000 non-null  float64\n",
      " 3   f2       100000 non-null  float64\n",
      " 4   product  100000 non-null  float64\n",
      "dtypes: float64(4), object(1)\n",
      "memory usage: 3.8+ MB\n",
      "None\n",
      "Número de duplicatas: 0\n"
     ]
    }
   ],
   "source": [
    "# verificando DataFrame\n",
    "print(df1.head())\n",
    "print()\n",
    "print(df1.info())\n",
    "print('Número de duplicatas:', df1.duplicated().sum())"
   ]
  },
  {
   "cell_type": "code",
   "execution_count": 5,
   "id": "fbfc65a1",
   "metadata": {},
   "outputs": [
    {
     "name": "stdout",
     "output_type": "stream",
     "text": [
      "      id        f0        f1        f2     product\n",
      "0  fwXo0 -1.146987  0.963328 -0.828965   27.758673\n",
      "1  WJtFt  0.262778  0.269839 -2.530187   56.069697\n",
      "2  ovLUW  0.194587  0.289035 -5.586433   62.871910\n",
      "3  q6cA6  2.236060 -0.553760  0.930038  114.572842\n",
      "4  WPMUX -0.515993  1.716266  5.899011  149.600746\n",
      "\n",
      "<class 'pandas.core.frame.DataFrame'>\n",
      "RangeIndex: 100000 entries, 0 to 99999\n",
      "Data columns (total 5 columns):\n",
      " #   Column   Non-Null Count   Dtype  \n",
      "---  ------   --------------   -----  \n",
      " 0   id       100000 non-null  object \n",
      " 1   f0       100000 non-null  float64\n",
      " 2   f1       100000 non-null  float64\n",
      " 3   f2       100000 non-null  float64\n",
      " 4   product  100000 non-null  float64\n",
      "dtypes: float64(4), object(1)\n",
      "memory usage: 3.8+ MB\n",
      "None\n",
      "Número de duplicatas: 0\n"
     ]
    }
   ],
   "source": [
    "# verificando DataFrame\n",
    "print(df2.head())\n",
    "print()\n",
    "print(df2.info())\n",
    "print('Número de duplicatas:', df2.duplicated().sum())"
   ]
  },
  {
   "cell_type": "markdown",
   "id": "3cd6b8ed",
   "metadata": {},
   "source": [
    "# Treine e teste o modelo para cada região"
   ]
  },
  {
   "cell_type": "code",
   "execution_count": 6,
   "id": "483374f0",
   "metadata": {},
   "outputs": [],
   "source": [
    "# função para modelo de Regressão Linear\n",
    "def linear_regression(df):\n",
    "\n",
    "    # separando conjunto de caracteristicas do alvo\n",
    "    features = df.drop(['id', 'product'], axis=1)\n",
    "    target = df['product']\n",
    "\n",
    "    # dividir os dados em treinamento e validação\n",
    "    features_train, features_valid, target_train, target_valid = train_test_split(\n",
    "        features, target, test_size=0.25, random_state=12345)\n",
    "\n",
    "    # criação de um modelo de Regressão Linear\n",
    "    model_linear_regression = LinearRegression()\n",
    "\n",
    "    # treinamento do modelo utilizando o conjunto de dados de treinamento\n",
    "    model_linear_regression.fit(features_train, target_train)\n",
    "\n",
    "    # realização de predições no conjunto de dados de validação\n",
    "    valid_predicted = model_linear_regression.predict(features_valid)\n",
    "\n",
    "    # realizando calculo do REQM\n",
    "    result = mean_squared_error(target_valid, valid_predicted)**0.5\n",
    "\n",
    "    # retorna as variaveis result, valid_predicted, target_valid\n",
    "    return result, valid_predicted, target_valid"
   ]
  },
  {
   "cell_type": "code",
   "execution_count": 7,
   "id": "54d1862a",
   "metadata": {},
   "outputs": [
    {
     "name": "stdout",
     "output_type": "stream",
     "text": [
      "Local 0\n",
      "Rmse: 37.5794217150813\n",
      "Média da predição: 92.59256778438035\n"
     ]
    }
   ],
   "source": [
    "# aplicando função salvando nas variaveis rmse0, predict0, target_valid0\n",
    "rmse0, predict0, target_valid0 = linear_regression(df0)\n",
    "\n",
    "# imprindo a váriavel rmse0 e imprimindo a média da váriavel predict0\n",
    "print(f'Local 0\\nRmse: {rmse0}\\nMédia da predição: {predict0.mean()}')"
   ]
  },
  {
   "cell_type": "code",
   "execution_count": 8,
   "id": "751d38cb",
   "metadata": {},
   "outputs": [
    {
     "name": "stdout",
     "output_type": "stream",
     "text": [
      "Local 1\n",
      "Rmse: 0.893099286775617\n",
      "Média da predição: 68.728546895446\n"
     ]
    }
   ],
   "source": [
    "# aplicando função salvando nas variaveis rmse1, predict1, target_valid1\n",
    "rmse1, predict1, target_valid1 = linear_regression(df1)\n",
    "\n",
    "# imprindo a váriavel reqm1 e imprimindo a média da váriavel predict1\n",
    "print(f'Local 1\\nRmse: {rmse1}\\nMédia da predição: {predict1.mean()}')"
   ]
  },
  {
   "cell_type": "code",
   "execution_count": 9,
   "id": "0f4e87e1",
   "metadata": {},
   "outputs": [
    {
     "name": "stdout",
     "output_type": "stream",
     "text": [
      "Local 2\n",
      "Rmse: 40.02970873393434\n",
      "Média da predição: 94.96504596800489\n"
     ]
    }
   ],
   "source": [
    "# aplicando função salvando nas variaveis rmse2, predict2, target_valid2\n",
    "rmse2, predict2, target_valid2 = linear_regression(df2)\n",
    "\n",
    "# imprindo a váriavel rmse1 e imprimindo a média da váriavel predict1\n",
    "print(f'Local 2\\nRmse: {rmse2}\\nMédia da predição: {predict2.mean()}')"
   ]
  },
  {
   "cell_type": "markdown",
   "id": "73eb4e9f",
   "metadata": {},
   "source": [
    "**Analise dos resultados**\n",
    "\n",
    "Podemos observar que os valores de RMSE variam de acordo com o local. O local 1 apresenta o menor RMSE (0.893), indicando que o modelo teve um bom desempenho na previsão das reservas nesse local. Já o local 0 apresenta um RMSE intermediário (37.579), enquanto o local 2 apresenta o maior RMSE (40.029), indicando que o modelo teve um desempenho inferior na previsão das reservas nesses locais.\n",
    "\n",
    "Além disso, a média da predição também varia de acordo com o local, sendo a maior média no local 2 e a menor no local 1. Isso pode indicar que o modelo tem mais dificuldade em prever reservas em locais onde há mais variação nos dados."
   ]
  },
  {
   "cell_type": "markdown",
   "id": "6302020e",
   "metadata": {},
   "source": [
    "# Prepare-se para o cálculo de lucro"
   ]
  },
  {
   "cell_type": "markdown",
   "id": "4cfd283a",
   "metadata": {},
   "source": [
    "- Analisar 500 pontos e pegar os 200 melhores pontos para calcular o lucro.\n",
    "- O orçamento para os 200 melhores poços de petróleo é 100 milhões de dólares.\n",
    "-  A receita de uma unidade de produto é 4.500 dólares.\n",
    "\n",
    "O custo de desenvolvimento de um único poço pode ser calculado dividindo o orçamento total pelo número de poços.\n",
    "A receita de uma unidade de produto é de 4.500 dólares americanos, portanto, para determinar o volume de petróleo necessário para recuperar o custo de desenvolvimento de um novo poço, podemos dividir o custo do poço pela receita por volume."
   ]
  },
  {
   "cell_type": "code",
   "execution_count": 10,
   "id": "e693dc3c",
   "metadata": {},
   "outputs": [
    {
     "data": {
      "text/plain": [
       "111.11111111111111"
      ]
     },
     "execution_count": 10,
     "metadata": {},
     "output_type": "execute_result"
    }
   ],
   "source": [
    "# 500 pontos\n",
    "qtd_points = 500\n",
    "\n",
    "# 200 melhores pontos\n",
    "qtd_best_points = 200\n",
    "\n",
    "# oraçamento de 100 milhões de dólares\n",
    "budget = 100000000\n",
    "\n",
    "# uma unidade do produto é 4.500 dólares\n",
    "unit_revanue = 4500\n",
    "\n",
    "# custo dividido para os 200 melhores pontos\n",
    "cost = budget / qtd_best_points\n",
    "\n",
    "# minimo de volume para cada poço\n",
    "min_volume = cost / unit_revanue\n",
    "\n",
    "min_volume"
   ]
  },
  {
   "cell_type": "markdown",
   "id": "604f3461",
   "metadata": {},
   "source": [
    "Isso significa que para recuperar o custo do desenvolvimento de um novo poço, precisamos produzir pelo menos 111,11 barris de petróleo desse poço. Se produzirmos menos do que essa quantidade, não geraremos receita suficiente para cobrir o custo de desenvolvimento do poço e teremos prejuízos.\n",
    "\n",
    "**Obs:** Pela média das predições até o momento já podemos concluir que o investimento vai causar prejuizo."
   ]
  },
  {
   "cell_type": "code",
   "execution_count": 11,
   "id": "85906341",
   "metadata": {},
   "outputs": [
    {
     "name": "stdout",
     "output_type": "stream",
     "text": [
      "Média de volume da região 0: 92.50000000000001\n",
      "Média de volume da região 1: 68.82500000000002\n",
      "Média de volume da região 2: 95.00000000000004\n",
      "Valor mínimo de volume: 111.11111111111111\n"
     ]
    }
   ],
   "source": [
    "# Comparando o valor recebido com o valor médio de reservas em cada região\n",
    "print(\n",
    "    f'Média de volume da região 0: {df0[\"product\"].mean()}\\nMédia de volume da região 1: {df1[\"product\"].mean()}\\nMédia de volume da região 2: {df2[\"product\"].mean()}\\nValor mínimo de volume: {min_volume}'\n",
    ")"
   ]
  },
  {
   "cell_type": "markdown",
   "id": "daace28f",
   "metadata": {},
   "source": [
    "Podemos ver que todas as regiões não tem o volume médio necessário para recuperar o custo do desenvolvimento de um novo poço."
   ]
  },
  {
   "cell_type": "markdown",
   "id": "58883f28",
   "metadata": {},
   "source": [
    "# Escreva uma função para calcular lucro de um conjunto de poços de petróleo selecionados e predições do modelo"
   ]
  },
  {
   "cell_type": "code",
   "execution_count": 12,
   "id": "3639e373",
   "metadata": {},
   "outputs": [],
   "source": [
    "# a função 'revenue' calcula a receita gerada pelos melhores poços de petróleo selecionados\n",
    "def revenue(target, predict):\n",
    "\n",
    "    # transforma o array-like predict em um pandas Series para executar o sort_values\n",
    "    predict = pd.Series(predict)\n",
    "\n",
    "    # define um índice de referência no DataFrame target para que possa ser alinhado com o predict\n",
    "    target = target.reset_index(drop=True)\n",
    "\n",
    "    # classifica em ordem decrescente a série 'predict', ou seja, os valores mais altos aparecem primeiro.\n",
    "    predict_sorted = predict.sort_values(ascending=False)\n",
    "\n",
    "    # seleciona os 200 melhores poços da lista de alvo\n",
    "    select = target[predict_sorted.index][:qtd_best_points]\n",
    "\n",
    "    # calcula a receita gerada pela exploração dos 200 melhores poços, subtraindo os custos do desenvolvimento desses poços\n",
    "    return (select.sum() * unit_revanue) - (cost * qtd_best_points)"
   ]
  },
  {
   "cell_type": "markdown",
   "id": "f031b6a9",
   "metadata": {},
   "source": [
    "**Explicando a formula:** *(select.sum() * unit_revenue) - (cost * qtd_best_points)*\n",
    "\n",
    "**select.sum():** Somamos o valor de produção de cada poço selecionado na lista \"select\". Esses poços foram escolhidos com base nas maiores probabilidades previstas pelo modelo. O resultado dessa soma é o valor total de produção dos poços selecionados.\n",
    "\n",
    "**unit_revenue:** É o valor de receita gerado por unidade de produto, ou seja, nesse caso, por barril de petróleo produzido.\n",
    "\n",
    "Multiplicamos o valor total de produção (resultado da soma de select.sum()) pelo valor de receita por unidade de produto (unit_revenue). Isso nos dá a receita total gerada pelos poços selecionados.\n",
    "\n",
    "**cost:** É o custo de desenvolvimento de um único poço de petróleo, que foi calculado como o orçamento total (budget) dividido pelo número de poços selecionados (qtd_best_points).\n",
    "\n",
    "Multiplicamos o custo de desenvolvimento de um único poço (cost) pelo número de poços selecionados (qtd_best_points). Isso nos dá o custo total de desenvolvimento dos poços.\n",
    "\n",
    "Subtraímos o custo total de desenvolvimento dos poços (resultado da multiplicação de cost por qtd_best_points) da receita total gerada pelos poços selecionados (resultado da multiplicação de select.sum() por unit_revenue). \n",
    "\n",
    "**O resultado dessa subtração é o lucro gerado pelos poços selecionados, ou seja calcula o lucro líquido estimado.**"
   ]
  },
  {
   "cell_type": "markdown",
   "id": "efd70229",
   "metadata": {},
   "source": [
    "# Calcule riscos e lucro para cada região:"
   ]
  },
  {
   "cell_type": "code",
   "execution_count": 13,
   "id": "e4b0fcce",
   "metadata": {},
   "outputs": [],
   "source": [
    "# definindo a função 'boot_revenue'\n",
    "def boot_revenue(target, predictions):\n",
    "\n",
    "    # resetando o índice da tabela target para evitar conflitos com o índice de predictions\n",
    "    target = target.reset_index(drop=True)\n",
    "\n",
    "    # definindo um estado aleatório para gerar subconjuntos de dados aleatórios\n",
    "    state = np.random.RandomState(12345)\n",
    "\n",
    "    # criando uma lista vazia para armazenar os valores de receita\n",
    "    values = []\n",
    "\n",
    "    # executando a função 'revenue' para 1000 subconjuntos aleatórios\n",
    "    for i in range(1000):\n",
    "\n",
    "        # selecionando aleatoriamente 'qtd_points' amostras com substituição da tabela target\n",
    "        target_subsample = target.sample(n=qtd_points,\n",
    "                                         replace=True,\n",
    "                                         random_state=state)\n",
    "\n",
    "        # selecionando os predictions correspondentes às amostras selecionadas acima\n",
    "        predictions_subsample = predictions[target_subsample.index]\n",
    "\n",
    "        # calculando a receita para as 'qtd_best_points' amostras com as maiores probabilidades\n",
    "        revenue_value = revenue(target_subsample, predictions_subsample)\n",
    "\n",
    "        # adicionando o valor de receita à lista 'values'\n",
    "        values.append(revenue_value)\n",
    "\n",
    "    # retorna a lista 'values' como um objeto pd.Series\n",
    "    return pd.Series(values)"
   ]
  },
  {
   "cell_type": "code",
   "execution_count": 14,
   "id": "1fc699f5",
   "metadata": {},
   "outputs": [],
   "source": [
    "# usando a função para calcular a receita para cada um dos 3 conjuntos de validação usando a função 'boot_revenue' e armazenando os resultados em variáveis diferentes\n",
    "revanue0 = boot_revenue(target_valid0, predict0)\n",
    "revanue1 = boot_revenue(target_valid1, predict1)\n",
    "revanue2 = boot_revenue(target_valid2, predict2)"
   ]
  },
  {
   "cell_type": "code",
   "execution_count": 15,
   "id": "23675842",
   "metadata": {},
   "outputs": [],
   "source": [
    "# esta função retorna os valores dos quantis 2.5% e 97.5% de uma lista de receitas.\n",
    "def quantile(revenues):\n",
    "    return np.quantile(revenues, [0.025, 0.975])\n",
    "\n",
    "\n",
    "# esta função retorna a proporção de receitas negativas em uma lista de receitas.\n",
    "def risk(revenues):\n",
    "    return np.mean(revenues < 0)"
   ]
  },
  {
   "cell_type": "code",
   "execution_count": 16,
   "id": "e3f797ac",
   "metadata": {},
   "outputs": [],
   "source": [
    "# usando a função quantile para calcular o intervalo de confiança dos 3 revanues\n",
    "confidence_interval0 = quantile(revanue0)\n",
    "confidence_interval1 = quantile(revanue1)\n",
    "confidence_interval2 = quantile(revanue2)\n",
    "\n",
    "# usando a função risk para calcular o risco de prejuizo dos 3 revanues\n",
    "risk_of_harm0 = risk(revanue0)\n",
    "risk_of_harm1 = risk(revanue1)\n",
    "risk_of_harm2 = risk(revanue2)"
   ]
  },
  {
   "cell_type": "code",
   "execution_count": 17,
   "id": "932ae61b",
   "metadata": {},
   "outputs": [
    {
     "name": "stdout",
     "output_type": "stream",
     "text": [
      "Local 0\n",
      "Lucro médio: 3961649.8480237117\n",
      "Intervalo de confiança de 95%: [-1112155.45890496  9097669.41553423]\n",
      "Risco de prejuízo: 0.069\n",
      "\n",
      "Local 1\n",
      "Lucro médio: 4560451.057866608\n",
      "Intervalo de confiança de 95%: [ 338205.09398985 8522894.53866035]\n",
      "Risco de prejuízo: 0.015\n",
      "\n",
      "Local 2\n",
      "Lucro médio: 4044038.665683568\n",
      "Intervalo de confiança de 95%: [-1633504.133956  9503595.749238]\n",
      "Risco de prejuízo: 0.076\n",
      "\n"
     ]
    }
   ],
   "source": [
    "# Lista de dados de cada local\n",
    "local_data = [\n",
    "    {\n",
    "        'name': 'Local 0',\n",
    "        'revanue': revanue0,\n",
    "        'confidence_interval': confidence_interval0,\n",
    "        'risk_of_harm': risk_of_harm0\n",
    "    },\n",
    "    {\n",
    "        'name': 'Local 1',\n",
    "        'revanue': revanue1,\n",
    "        'confidence_interval': confidence_interval1,\n",
    "        'risk_of_harm': risk_of_harm1\n",
    "    },\n",
    "    {\n",
    "        'name': 'Local 2',\n",
    "        'revanue': revanue2,\n",
    "        'confidence_interval': confidence_interval2,\n",
    "        'risk_of_harm': risk_of_harm2\n",
    "    },\n",
    "]\n",
    "\n",
    "# Loop para imprimir os resultados de cada local\n",
    "for data in local_data:\n",
    "    print(f'{data[\"name\"]}')\n",
    "    print(f'Lucro médio: {data[\"revanue\"].mean()}')\n",
    "    print(f'Intervalo de confiança de 95%: {data[\"confidence_interval\"]}')\n",
    "    print(f'Risco de prejuízo: {data[\"risk_of_harm\"]}\\n')"
   ]
  },
  {
   "cell_type": "markdown",
   "id": "82d0f185",
   "metadata": {},
   "source": [
    "**Conclusão**\n",
    "\n",
    "Podemos observar que o Local 1 é o mais promissor para o desenvolvimento de novos poços de petróleo. Ele apresenta o lucro médio mais alto e o menor risco de prejuízo, com apenas 1,5% de chance de obter uma receita negativa. Além disso, o intervalo de confiança de 95% é relativamente estreito, indicando uma maior confiabilidade nos resultados.\n",
    "\n",
    "Já os Locais 0 e 2 apresentam riscos de prejuízo relativamente altos, de 6,9% e 7,6%, respectivamente. Além disso, o intervalo de confiança de 95% é mais amplo, o que pode indicar uma maior incerteza nos resultados.\n",
    "\n",
    "Outro ponto a ser considerado é que para recuperar o custo do desenvolvimento de um novo poço, precisamos produzir pelo menos 111,11 barris de petróleo desse poço. Portanto, é importante avaliar a quantidade de petróleo que pode ser extraída em cada local, além de considerar outros fatores como o acesso, as condições geográficas e ambientais, a disponibilidade de mão de obra, entre outros.\n",
    "\n",
    "Por fim, é importante ressaltar que o modelo utilizado para calcular os lucros e riscos pode ter limitações, uma vez que apenas a regressão linear foi utilizada para o treinamento. "
   ]
  }
 ],
 "metadata": {
  "kernelspec": {
   "display_name": "Python 3 (ipykernel)",
   "language": "python",
   "name": "python3"
  },
  "language_info": {
   "codemirror_mode": {
    "name": "ipython",
    "version": 3
   },
   "file_extension": ".py",
   "mimetype": "text/x-python",
   "name": "python",
   "nbconvert_exporter": "python",
   "pygments_lexer": "ipython3",
   "version": "3.9.12"
  },
  "toc": {
   "base_numbering": 1,
   "nav_menu": {},
   "number_sections": true,
   "sideBar": true,
   "skip_h1_title": false,
   "title_cell": "Table of Contents",
   "title_sidebar": "Contents",
   "toc_cell": false,
   "toc_position": {},
   "toc_section_display": true,
   "toc_window_display": false
  },
  "varInspector": {
   "cols": {
    "lenName": 16,
    "lenType": 16,
    "lenVar": 40
   },
   "kernels_config": {
    "python": {
     "delete_cmd_postfix": "",
     "delete_cmd_prefix": "del ",
     "library": "var_list.py",
     "varRefreshCmd": "print(var_dic_list())"
    },
    "r": {
     "delete_cmd_postfix": ") ",
     "delete_cmd_prefix": "rm(",
     "library": "var_list.r",
     "varRefreshCmd": "cat(var_dic_list()) "
    }
   },
   "types_to_exclude": [
    "module",
    "function",
    "builtin_function_or_method",
    "instance",
    "_Feature"
   ],
   "window_display": false
  }
 },
 "nbformat": 4,
 "nbformat_minor": 5
}
